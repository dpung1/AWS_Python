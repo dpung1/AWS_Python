{
 "cells": [
  {
   "cell_type": "code",
   "execution_count": 1,
   "id": "a9561701",
   "metadata": {},
   "outputs": [],
   "source": [
    "str = \"'test'\""
   ]
  },
  {
   "cell_type": "code",
   "execution_count": 2,
   "id": "2b5c8697",
   "metadata": {},
   "outputs": [
    {
     "name": "stdout",
     "output_type": "stream",
     "text": [
      "'test'\n"
     ]
    }
   ],
   "source": [
    "print(str)"
   ]
  },
  {
   "cell_type": "code",
   "execution_count": 5,
   "id": "05ce7301",
   "metadata": {},
   "outputs": [
    {
     "name": "stdout",
     "output_type": "stream",
     "text": [
      "'aaa', \"aaa\"\n"
     ]
    }
   ],
   "source": [
    "print(\"'aaa', \\\"aaa\\\"\")"
   ]
  },
  {
   "cell_type": "code",
   "execution_count": 6,
   "id": "9a2dc7ec",
   "metadata": {
    "scrolled": true
   },
   "outputs": [
    {
     "name": "stdout",
     "output_type": "stream",
     "text": [
      "\"aaa\", 'aaa'\n"
     ]
    }
   ],
   "source": [
    "print('\"aaa\", \\'aaa\\'')"
   ]
  },
  {
   "cell_type": "code",
   "execution_count": 7,
   "id": "ea92d038",
   "metadata": {},
   "outputs": [
    {
     "name": "stdout",
     "output_type": "stream",
     "text": [
      "김준일\n"
     ]
    }
   ],
   "source": [
    "print(\"김준일\")"
   ]
  },
  {
   "cell_type": "code",
   "execution_count": 12,
   "id": "d5e09a59",
   "metadata": {},
   "outputs": [
    {
     "name": "stdout",
     "output_type": "stream",
     "text": [
      "김준일\n",
      "김준일\n",
      "김준일\n",
      "김준일\n",
      "김준일\n",
      "\n"
     ]
    }
   ],
   "source": [
    "print(\"김준일\\n\" * 5)"
   ]
  },
  {
   "cell_type": "code",
   "execution_count": 15,
   "id": "9e49e3c3",
   "metadata": {},
   "outputs": [],
   "source": [
    "address = \"부산 동래구 중앙대로 1285번길\""
   ]
  },
  {
   "cell_type": "code",
   "execution_count": 16,
   "id": "58802936",
   "metadata": {},
   "outputs": [
    {
     "name": "stdout",
     "output_type": "stream",
     "text": [
      "부\n"
     ]
    }
   ],
   "source": [
    "print(address[0])"
   ]
  },
  {
   "cell_type": "code",
   "execution_count": 20,
   "id": "f3ac5b81",
   "metadata": {
    "scrolled": true
   },
   "outputs": [
    {
     "name": "stdout",
     "output_type": "stream",
     "text": [
      "부산 동래구\n"
     ]
    }
   ],
   "source": [
    "print(address[:6])"
   ]
  },
  {
   "cell_type": "code",
   "execution_count": 21,
   "id": "57eb1b35",
   "metadata": {},
   "outputs": [
    {
     "name": "stdout",
     "output_type": "stream",
     "text": [
      "중앙대로 1285번길\n"
     ]
    }
   ],
   "source": [
    "print(address[7:])"
   ]
  },
  {
   "cell_type": "code",
   "execution_count": 22,
   "id": "10ac1363",
   "metadata": {},
   "outputs": [],
   "source": [
    "names = [\"김준일\", \"김준이\", \"김준삼\", \"김준사\"]"
   ]
  },
  {
   "cell_type": "code",
   "execution_count": 31,
   "id": "cdac7d71",
   "metadata": {},
   "outputs": [
    {
     "name": "stdout",
     "output_type": "stream",
     "text": [
      "준일\n",
      "준이\n",
      "준삼\n",
      "준사\n"
     ]
    }
   ],
   "source": [
    "print(names[0][1:])\n",
    "print(names[1][1:])\n",
    "print(names[2][1:])\n",
    "print(names[3][1:])"
   ]
  },
  {
   "cell_type": "code",
   "execution_count": 33,
   "id": "ffeb8e62",
   "metadata": {},
   "outputs": [
    {
     "name": "stdout",
     "output_type": "stream",
     "text": [
      "준일\n",
      "준이\n",
      "준삼\n",
      "준사\n"
     ]
    }
   ],
   "source": [
    "for i in range(4):\n",
    "    print(names[i][1:])"
   ]
  },
  {
   "cell_type": "code",
   "execution_count": 34,
   "id": "9f2a10e0",
   "metadata": {},
   "outputs": [
    {
     "name": "stdout",
     "output_type": "stream",
     "text": [
      "range(0, 10)\n"
     ]
    }
   ],
   "source": [
    "print(range(10))"
   ]
  },
  {
   "cell_type": "code",
   "execution_count": 37,
   "id": "fdbc8a86",
   "metadata": {},
   "outputs": [
    {
     "name": "stdout",
     "output_type": "stream",
     "text": [
      "\n",
      "select\n",
      "    *\n",
      "form\n",
      "    user_tb\n",
      "where\n",
      "    username = aaa\n",
      "\n"
     ]
    }
   ],
   "source": [
    "username = \"aaa\"\n",
    "\n",
    "sql = f\"\"\"\n",
    "select\n",
    "    *\n",
    "form\n",
    "    user_tb\n",
    "where\n",
    "    username = {username}\n",
    "\"\"\"\n",
    "\n",
    "print(sql)"
   ]
  },
  {
   "cell_type": "code",
   "execution_count": 46,
   "id": "47aa7144",
   "metadata": {},
   "outputs": [
    {
     "name": "stdout",
     "output_type": "stream",
     "text": [
      "2\n",
      "-1\n"
     ]
    },
    {
     "ename": "ValueError",
     "evalue": "substring not found",
     "output_type": "error",
     "traceback": [
      "\u001b[0;31m---------------------------------------------------------------------------\u001b[0m",
      "\u001b[0;31mValueError\u001b[0m                                Traceback (most recent call last)",
      "Cell \u001b[0;32mIn[46], line 4\u001b[0m\n\u001b[1;32m      2\u001b[0m \u001b[38;5;28mprint\u001b[39m(name\u001b[38;5;241m.\u001b[39mcount(\u001b[38;5;124m\"\u001b[39m\u001b[38;5;124m김\u001b[39m\u001b[38;5;124m\"\u001b[39m))\n\u001b[1;32m      3\u001b[0m \u001b[38;5;28mprint\u001b[39m(name\u001b[38;5;241m.\u001b[39mfind(\u001b[38;5;124m\"\u001b[39m\u001b[38;5;124m이\u001b[39m\u001b[38;5;124m\"\u001b[39m))\n\u001b[0;32m----> 4\u001b[0m \u001b[38;5;28mprint\u001b[39m(name\u001b[38;5;241m.\u001b[39mindex(\u001b[38;5;124m\"\u001b[39m\u001b[38;5;124m이\u001b[39m\u001b[38;5;124m\"\u001b[39m))\n",
      "\u001b[0;31mValueError\u001b[0m: substring not found"
     ]
    }
   ],
   "source": [
    "name = \"김김일\"\n",
    "print(name.count(\"김\"))\n",
    "print(name.find(\"이\"))\n",
    "print(name.index(\"이\"))"
   ]
  },
  {
   "cell_type": "code",
   "execution_count": 48,
   "id": "ead58848",
   "metadata": {
    "scrolled": true
   },
   "outputs": [
    {
     "name": "stdout",
     "output_type": "stream",
     "text": [
      "김준일\n",
      "김 준 일\n",
      " \n"
     ]
    }
   ],
   "source": [
    "name = \"김준일\"\n",
    "print(name)\n",
    "name = \" \".join(name)\n",
    "print(name)\n",
    "name2 = \"김준일\"\n",
    "name2 = name2.join(\" \")\n",
    "print(name2)"
   ]
  }
 ],
 "metadata": {
  "kernelspec": {
   "display_name": "Python 3 (ipykernel)",
   "language": "python",
   "name": "python3"
  },
  "language_info": {
   "codemirror_mode": {
    "name": "ipython",
    "version": 3
   },
   "file_extension": ".py",
   "mimetype": "text/x-python",
   "name": "python",
   "nbconvert_exporter": "python",
   "pygments_lexer": "ipython3",
   "version": "3.11.4"
  }
 },
 "nbformat": 4,
 "nbformat_minor": 5
}
