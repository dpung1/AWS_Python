{
 "cells": [
  {
   "cell_type": "code",
   "execution_count": 5,
   "id": "19b7c1ff",
   "metadata": {},
   "outputs": [
    {
     "name": "stdout",
     "output_type": "stream",
     "text": [
      "거짓\n"
     ]
    }
   ],
   "source": [
    "username = \"bbb\"\n",
    "password = \"1234\"\n",
    "\n",
    "if username == \"aaa\" and password == \"1234\":\n",
    "    print(\"참\")\n",
    "    print(\"참2\")\n",
    "else: \n",
    "    print(\"거짓\")"
   ]
  },
  {
   "cell_type": "code",
   "execution_count": 6,
   "id": "70b9e0ec",
   "metadata": {},
   "outputs": [
    {
     "name": "stdout",
     "output_type": "stream",
     "text": [
      "password가 1234임\n"
     ]
    }
   ],
   "source": [
    "if username == \"aaa\":\n",
    "    print(\"username이 aaa임\")\n",
    "elif(password == \"1234\"):\n",
    "    print(\"password가 1234임\")\n",
    "else:\n",
    "    print(\"둘다 아님\")"
   ]
  },
  {
   "cell_type": "code",
   "execution_count": 8,
   "id": "41995d80",
   "metadata": {},
   "outputs": [
    {
     "name": "stdout",
     "output_type": "stream",
     "text": [
      "메뉴입력 : 1\n",
      "while 반복\n",
      "메뉴입력 : 2\n",
      "while 반복\n",
      "메뉴입력 : 3\n",
      "while 반복\n",
      "메뉴입력 : 4\n",
      "while 반복\n",
      "메뉴입력 : ㅂ\n",
      "while 반복\n",
      "메뉴입력 : q\n"
     ]
    }
   ],
   "source": [
    "while True:\n",
    "    menu = input(\"메뉴입력 : \")\n",
    "    if menu == \"q\":\n",
    "        break\n",
    "    else:\n",
    "        print(\"while 반복\")"
   ]
  }
 ],
 "metadata": {
  "kernelspec": {
   "display_name": "Python 3 (ipykernel)",
   "language": "python",
   "name": "python3"
  },
  "language_info": {
   "codemirror_mode": {
    "name": "ipython",
    "version": 3
   },
   "file_extension": ".py",
   "mimetype": "text/x-python",
   "name": "python",
   "nbconvert_exporter": "python",
   "pygments_lexer": "ipython3",
   "version": "3.11.4"
  }
 },
 "nbformat": 4,
 "nbformat_minor": 5
}
