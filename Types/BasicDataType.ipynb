{
 "cells": [
  {
   "cell_type": "code",
   "execution_count": 2,
   "id": "2eb7b205",
   "metadata": {},
   "outputs": [],
   "source": [
    "num = 10"
   ]
  },
  {
   "cell_type": "code",
   "execution_count": 3,
   "id": "f368cf1b",
   "metadata": {},
   "outputs": [],
   "source": [
    "num2 = 20"
   ]
  },
  {
   "cell_type": "code",
   "execution_count": 4,
   "id": "245f6eeb",
   "metadata": {},
   "outputs": [
    {
     "data": {
      "text/plain": [
       "30"
      ]
     },
     "execution_count": 4,
     "metadata": {},
     "output_type": "execute_result"
    }
   ],
   "source": [
    "num + num2"
   ]
  },
  {
   "cell_type": "code",
   "execution_count": 7,
   "id": "ef8cf5d3",
   "metadata": {},
   "outputs": [],
   "source": [
    "name = \"김준일\""
   ]
  },
  {
   "cell_type": "code",
   "execution_count": 14,
   "id": "3114ffba",
   "metadata": {},
   "outputs": [],
   "source": [
    "address = \"부산\\n동래구\\n중앙대로 \""
   ]
  },
  {
   "cell_type": "code",
   "execution_count": 15,
   "id": "58221021",
   "metadata": {},
   "outputs": [
    {
     "name": "stdout",
     "output_type": "stream",
     "text": [
      "부산\n",
      "동래구\n",
      "중앙대로 \n"
     ]
    }
   ],
   "source": [
    "print(address)"
   ]
  },
  {
   "cell_type": "code",
   "execution_count": 16,
   "id": "31647a27",
   "metadata": {},
   "outputs": [],
   "source": [
    "address2 = \"\"\"부산\n",
    "동래구\n",
    "중앙대로\"\"\""
   ]
  },
  {
   "cell_type": "code",
   "execution_count": 17,
   "id": "9bb1c711",
   "metadata": {},
   "outputs": [
    {
     "name": "stdout",
     "output_type": "stream",
     "text": [
      "부산\n",
      "동래구\n",
      "중앙대로\n"
     ]
    }
   ],
   "source": [
    "print(address2)"
   ]
  },
  {
   "cell_type": "code",
   "execution_count": 18,
   "id": "194d6a26",
   "metadata": {},
   "outputs": [],
   "source": [
    "sql = \"\"\"\n",
    "select\n",
    "    *\n",
    "from\n",
    "    user_tb\n",
    "\"\"\""
   ]
  },
  {
   "cell_type": "code",
   "execution_count": 19,
   "id": "f0f0d574",
   "metadata": {},
   "outputs": [
    {
     "name": "stdout",
     "output_type": "stream",
     "text": [
      "\n",
      "select\n",
      "    *\n",
      "from\n",
      "    user_tb\n",
      "\n"
     ]
    }
   ],
   "source": [
    "print(sql)"
   ]
  },
  {
   "cell_type": "code",
   "execution_count": 20,
   "id": "ebbd1ac5",
   "metadata": {},
   "outputs": [],
   "source": [
    "isEmpty = len(sql) == 0"
   ]
  },
  {
   "cell_type": "code",
   "execution_count": 21,
   "id": "75bc0ab3",
   "metadata": {},
   "outputs": [
    {
     "name": "stdout",
     "output_type": "stream",
     "text": [
      "False\n"
     ]
    }
   ],
   "source": [
    "print(isEmpty)"
   ]
  },
  {
   "cell_type": "code",
   "execution_count": 22,
   "id": "26e583b5",
   "metadata": {},
   "outputs": [],
   "source": [
    "isShow = True\n",
    "isSelect = False"
   ]
  },
  {
   "cell_type": "code",
   "execution_count": 23,
   "id": "0b6138ac",
   "metadata": {},
   "outputs": [
    {
     "ename": "SyntaxError",
     "evalue": "invalid syntax (650016495.py, line 1)",
     "output_type": "error",
     "traceback": [
      "\u001b[0;36m  Cell \u001b[0;32mIn[23], line 1\u001b[0;36m\u001b[0m\n\u001b[0;31m    print(isShow && isSelect)\u001b[0m\n\u001b[0m                  ^\u001b[0m\n\u001b[0;31mSyntaxError\u001b[0m\u001b[0;31m:\u001b[0m invalid syntax\n"
     ]
    }
   ],
   "source": [
    "print(isShow && isSelect)"
   ]
  },
  {
   "cell_type": "code",
   "execution_count": 24,
   "id": "0e4124f0",
   "metadata": {},
   "outputs": [
    {
     "name": "stdout",
     "output_type": "stream",
     "text": [
      "False\n"
     ]
    }
   ],
   "source": [
    "print(isShow and isSelect)"
   ]
  },
  {
   "cell_type": "code",
   "execution_count": 25,
   "id": "e3bae029",
   "metadata": {},
   "outputs": [
    {
     "name": "stdout",
     "output_type": "stream",
     "text": [
      "True\n"
     ]
    }
   ],
   "source": [
    "print(isShow or isSelect)"
   ]
  }
 ],
 "metadata": {
  "kernelspec": {
   "display_name": "Python 3 (ipykernel)",
   "language": "python",
   "name": "python3"
  },
  "language_info": {
   "codemirror_mode": {
    "name": "ipython",
    "version": 3
   },
   "file_extension": ".py",
   "mimetype": "text/x-python",
   "name": "python",
   "nbconvert_exporter": "python",
   "pygments_lexer": "ipython3",
   "version": "3.11.4"
  }
 },
 "nbformat": 4,
 "nbformat_minor": 5
}
