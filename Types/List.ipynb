{
 "cells": [
  {
   "cell_type": "code",
   "execution_count": 3,
   "id": "53410f89",
   "metadata": {},
   "outputs": [],
   "source": [
    "list = [1, 2, 3, 4, 5, [\"김준일\", \"김준이\", [True, False, False],[1.1, 2.2, 3.3]]]"
   ]
  },
  {
   "cell_type": "code",
   "execution_count": 4,
   "id": "b2acd377",
   "metadata": {},
   "outputs": [
    {
     "name": "stdout",
     "output_type": "stream",
     "text": [
      "[1, 2, 3, 4, 5, ['김준일', '김준이', [True, False, False], [1.1, 2.2, 3.3]]]\n"
     ]
    }
   ],
   "source": [
    "print(list)"
   ]
  },
  {
   "cell_type": "code",
   "execution_count": 8,
   "id": "a689ecfd",
   "metadata": {},
   "outputs": [
    {
     "name": "stdout",
     "output_type": "stream",
     "text": [
      "[False, False]\n"
     ]
    }
   ],
   "source": [
    "print(list[-1][-2][1:])"
   ]
  },
  {
   "cell_type": "code",
   "execution_count": 13,
   "id": "e761afcc",
   "metadata": {},
   "outputs": [
    {
     "name": "stdout",
     "output_type": "stream",
     "text": [
      "[1, 2, 3, 4, 5, 6, 7, 8]\n",
      "[1, 2, 3, 4, 5, 6, 7, 8]\n",
      "[1, 2, 3, 4, 5, 6, 7, 8, 1, 2, 3, 4, 5, 6, 7, 8]\n"
     ]
    }
   ],
   "source": [
    "list = [1, 2, 3, 4]\n",
    "list2 = [5, 6, 7, 8]\n",
    "\n",
    "print(list + list2)\n",
    "\n",
    "list.extend(list2)\n",
    "print(list)\n",
    "\n",
    "print(list * 2)"
   ]
  },
  {
   "cell_type": "code",
   "execution_count": 19,
   "id": "f3264f97",
   "metadata": {},
   "outputs": [
    {
     "name": "stdout",
     "output_type": "stream",
     "text": [
      "3\n",
      "1 1\n"
     ]
    }
   ],
   "source": [
    "t = (1, 2, 3)\n",
    "print(t[2])\n",
    "\n",
    "t = (1,)\n",
    "lsit = [1]\n",
    "print(t[0], list[0])"
   ]
  }
 ],
 "metadata": {
  "kernelspec": {
   "display_name": "Python 3 (ipykernel)",
   "language": "python",
   "name": "python3"
  },
  "language_info": {
   "codemirror_mode": {
    "name": "ipython",
    "version": 3
   },
   "file_extension": ".py",
   "mimetype": "text/x-python",
   "name": "python",
   "nbconvert_exporter": "python",
   "pygments_lexer": "ipython3",
   "version": "3.11.4"
  }
 },
 "nbformat": 4,
 "nbformat_minor": 5
}
